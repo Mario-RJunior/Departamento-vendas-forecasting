{
  "nbformat": 4,
  "nbformat_minor": 0,
  "metadata": {
    "colab": {
      "name": "forecasting-vendas.ipynb",
      "provenance": [],
      "authorship_tag": "ABX9TyO7CHEFyyY/GvStPfkE5Wa1",
      "include_colab_link": true
    },
    "kernelspec": {
      "name": "python3",
      "display_name": "Python 3"
    }
  },
  "cells": [
    {
      "cell_type": "markdown",
      "metadata": {
        "id": "view-in-github",
        "colab_type": "text"
      },
      "source": [
        "<a href=\"https://colab.research.google.com/github/Mario-RJunior/Departamento-vendas-forecasting/blob/main/forecasting_vendas.ipynb\" target=\"_parent\"><img src=\"https://colab.research.google.com/assets/colab-badge.svg\" alt=\"Open In Colab\"/></a>"
      ]
    },
    {
      "cell_type": "markdown",
      "metadata": {
        "id": "MrBLzWH-kwav"
      },
      "source": [
        "# Departamento de vendas"
      ]
    },
    {
      "cell_type": "markdown",
      "metadata": {
        "id": "cyad0u9-k1Lr"
      },
      "source": [
        "## Importação das bibliotecas e base de dados"
      ]
    },
    {
      "cell_type": "code",
      "metadata": {
        "id": "uV7ETxlckte1"
      },
      "source": [
        "# Importando as bibliotecas\n",
        "import pandas as pd\n",
        "import numpy as np\n",
        "import matplotlib.pyplot as plt\n",
        "import seaborn as sns\n",
        "import datetime"
      ],
      "execution_count": 1,
      "outputs": []
    },
    {
      "cell_type": "markdown",
      "metadata": {
        "id": "wv8Tdb7rmJsE"
      },
      "source": [
        "### Dados das vendas"
      ]
    },
    {
      "cell_type": "code",
      "metadata": {
        "id": "dwi3oV-rlQGD",
        "outputId": "e98a2261-9b71-44d7-a1f5-fc8cc8915043",
        "colab": {
          "base_uri": "https://localhost:8080/"
        }
      },
      "source": [
        "# Carregando a base de dados\n",
        "sales_train_df = pd.read_csv('/content/train.csv')"
      ],
      "execution_count": 2,
      "outputs": [
        {
          "output_type": "stream",
          "text": [
            "/usr/local/lib/python3.6/dist-packages/IPython/core/interactiveshell.py:2718: DtypeWarning: Columns (7) have mixed types.Specify dtype option on import or set low_memory=False.\n",
            "  interactivity=interactivity, compiler=compiler, result=result)\n"
          ],
          "name": "stderr"
        }
      ]
    },
    {
      "cell_type": "code",
      "metadata": {
        "id": "RO6rRuLzmB5f",
        "outputId": "52ba0367-43e5-43e4-f0a4-f33147a03d57",
        "colab": {
          "base_uri": "https://localhost:8080/"
        }
      },
      "source": [
        "# Visualizando shape\n",
        "l, c = sales_train_df.shape\n",
        "print('Número de registros: {} \\nNúmeros de coluna: {}'.format(l, c))"
      ],
      "execution_count": 6,
      "outputs": [
        {
          "output_type": "stream",
          "text": [
            "Número de registros: 1017209 \n",
            "Números de coluna: 9\n"
          ],
          "name": "stdout"
        }
      ]
    },
    {
      "cell_type": "code",
      "metadata": {
        "id": "CyviSioSmHTR",
        "outputId": "06f49c40-31b3-42d4-80d7-5c423192e9ac",
        "colab": {
          "base_uri": "https://localhost:8080/",
          "height": 204
        }
      },
      "source": [
        "# Visualizando o cabeçalho\n",
        "sales_train_df.head()"
      ],
      "execution_count": 7,
      "outputs": [
        {
          "output_type": "execute_result",
          "data": {
            "text/html": [
              "<div>\n",
              "<style scoped>\n",
              "    .dataframe tbody tr th:only-of-type {\n",
              "        vertical-align: middle;\n",
              "    }\n",
              "\n",
              "    .dataframe tbody tr th {\n",
              "        vertical-align: top;\n",
              "    }\n",
              "\n",
              "    .dataframe thead th {\n",
              "        text-align: right;\n",
              "    }\n",
              "</style>\n",
              "<table border=\"1\" class=\"dataframe\">\n",
              "  <thead>\n",
              "    <tr style=\"text-align: right;\">\n",
              "      <th></th>\n",
              "      <th>Store</th>\n",
              "      <th>DayOfWeek</th>\n",
              "      <th>Date</th>\n",
              "      <th>Sales</th>\n",
              "      <th>Customers</th>\n",
              "      <th>Open</th>\n",
              "      <th>Promo</th>\n",
              "      <th>StateHoliday</th>\n",
              "      <th>SchoolHoliday</th>\n",
              "    </tr>\n",
              "  </thead>\n",
              "  <tbody>\n",
              "    <tr>\n",
              "      <th>0</th>\n",
              "      <td>1</td>\n",
              "      <td>5</td>\n",
              "      <td>2015-07-31</td>\n",
              "      <td>5263</td>\n",
              "      <td>555</td>\n",
              "      <td>1</td>\n",
              "      <td>1</td>\n",
              "      <td>0</td>\n",
              "      <td>1</td>\n",
              "    </tr>\n",
              "    <tr>\n",
              "      <th>1</th>\n",
              "      <td>2</td>\n",
              "      <td>5</td>\n",
              "      <td>2015-07-31</td>\n",
              "      <td>6064</td>\n",
              "      <td>625</td>\n",
              "      <td>1</td>\n",
              "      <td>1</td>\n",
              "      <td>0</td>\n",
              "      <td>1</td>\n",
              "    </tr>\n",
              "    <tr>\n",
              "      <th>2</th>\n",
              "      <td>3</td>\n",
              "      <td>5</td>\n",
              "      <td>2015-07-31</td>\n",
              "      <td>8314</td>\n",
              "      <td>821</td>\n",
              "      <td>1</td>\n",
              "      <td>1</td>\n",
              "      <td>0</td>\n",
              "      <td>1</td>\n",
              "    </tr>\n",
              "    <tr>\n",
              "      <th>3</th>\n",
              "      <td>4</td>\n",
              "      <td>5</td>\n",
              "      <td>2015-07-31</td>\n",
              "      <td>13995</td>\n",
              "      <td>1498</td>\n",
              "      <td>1</td>\n",
              "      <td>1</td>\n",
              "      <td>0</td>\n",
              "      <td>1</td>\n",
              "    </tr>\n",
              "    <tr>\n",
              "      <th>4</th>\n",
              "      <td>5</td>\n",
              "      <td>5</td>\n",
              "      <td>2015-07-31</td>\n",
              "      <td>4822</td>\n",
              "      <td>559</td>\n",
              "      <td>1</td>\n",
              "      <td>1</td>\n",
              "      <td>0</td>\n",
              "      <td>1</td>\n",
              "    </tr>\n",
              "  </tbody>\n",
              "</table>\n",
              "</div>"
            ],
            "text/plain": [
              "   Store  DayOfWeek        Date  Sales  ...  Open  Promo  StateHoliday SchoolHoliday\n",
              "0      1          5  2015-07-31   5263  ...     1      1             0             1\n",
              "1      2          5  2015-07-31   6064  ...     1      1             0             1\n",
              "2      3          5  2015-07-31   8314  ...     1      1             0             1\n",
              "3      4          5  2015-07-31  13995  ...     1      1             0             1\n",
              "4      5          5  2015-07-31   4822  ...     1      1             0             1\n",
              "\n",
              "[5 rows x 9 columns]"
            ]
          },
          "metadata": {
            "tags": []
          },
          "execution_count": 7
        }
      ]
    },
    {
      "cell_type": "code",
      "metadata": {
        "id": "artfb9S6pAuf",
        "outputId": "b1482a3a-dd60-420d-8323-ec3bc5d0c196",
        "colab": {
          "base_uri": "https://localhost:8080/",
          "height": 204
        }
      },
      "source": [
        "# Visualizando os últimos registros\n",
        "sales_train_df.tail()"
      ],
      "execution_count": 14,
      "outputs": [
        {
          "output_type": "execute_result",
          "data": {
            "text/html": [
              "<div>\n",
              "<style scoped>\n",
              "    .dataframe tbody tr th:only-of-type {\n",
              "        vertical-align: middle;\n",
              "    }\n",
              "\n",
              "    .dataframe tbody tr th {\n",
              "        vertical-align: top;\n",
              "    }\n",
              "\n",
              "    .dataframe thead th {\n",
              "        text-align: right;\n",
              "    }\n",
              "</style>\n",
              "<table border=\"1\" class=\"dataframe\">\n",
              "  <thead>\n",
              "    <tr style=\"text-align: right;\">\n",
              "      <th></th>\n",
              "      <th>Store</th>\n",
              "      <th>DayOfWeek</th>\n",
              "      <th>Date</th>\n",
              "      <th>Sales</th>\n",
              "      <th>Customers</th>\n",
              "      <th>Open</th>\n",
              "      <th>Promo</th>\n",
              "      <th>StateHoliday</th>\n",
              "      <th>SchoolHoliday</th>\n",
              "    </tr>\n",
              "  </thead>\n",
              "  <tbody>\n",
              "    <tr>\n",
              "      <th>1017204</th>\n",
              "      <td>1111</td>\n",
              "      <td>2</td>\n",
              "      <td>2013-01-01</td>\n",
              "      <td>0</td>\n",
              "      <td>0</td>\n",
              "      <td>0</td>\n",
              "      <td>0</td>\n",
              "      <td>a</td>\n",
              "      <td>1</td>\n",
              "    </tr>\n",
              "    <tr>\n",
              "      <th>1017205</th>\n",
              "      <td>1112</td>\n",
              "      <td>2</td>\n",
              "      <td>2013-01-01</td>\n",
              "      <td>0</td>\n",
              "      <td>0</td>\n",
              "      <td>0</td>\n",
              "      <td>0</td>\n",
              "      <td>a</td>\n",
              "      <td>1</td>\n",
              "    </tr>\n",
              "    <tr>\n",
              "      <th>1017206</th>\n",
              "      <td>1113</td>\n",
              "      <td>2</td>\n",
              "      <td>2013-01-01</td>\n",
              "      <td>0</td>\n",
              "      <td>0</td>\n",
              "      <td>0</td>\n",
              "      <td>0</td>\n",
              "      <td>a</td>\n",
              "      <td>1</td>\n",
              "    </tr>\n",
              "    <tr>\n",
              "      <th>1017207</th>\n",
              "      <td>1114</td>\n",
              "      <td>2</td>\n",
              "      <td>2013-01-01</td>\n",
              "      <td>0</td>\n",
              "      <td>0</td>\n",
              "      <td>0</td>\n",
              "      <td>0</td>\n",
              "      <td>a</td>\n",
              "      <td>1</td>\n",
              "    </tr>\n",
              "    <tr>\n",
              "      <th>1017208</th>\n",
              "      <td>1115</td>\n",
              "      <td>2</td>\n",
              "      <td>2013-01-01</td>\n",
              "      <td>0</td>\n",
              "      <td>0</td>\n",
              "      <td>0</td>\n",
              "      <td>0</td>\n",
              "      <td>a</td>\n",
              "      <td>1</td>\n",
              "    </tr>\n",
              "  </tbody>\n",
              "</table>\n",
              "</div>"
            ],
            "text/plain": [
              "         Store  DayOfWeek        Date  ...  Promo  StateHoliday  SchoolHoliday\n",
              "1017204   1111          2  2013-01-01  ...      0             a              1\n",
              "1017205   1112          2  2013-01-01  ...      0             a              1\n",
              "1017206   1113          2  2013-01-01  ...      0             a              1\n",
              "1017207   1114          2  2013-01-01  ...      0             a              1\n",
              "1017208   1115          2  2013-01-01  ...      0             a              1\n",
              "\n",
              "[5 rows x 9 columns]"
            ]
          },
          "metadata": {
            "tags": []
          },
          "execution_count": 14
        }
      ]
    },
    {
      "cell_type": "code",
      "metadata": {
        "id": "bOkvW57Ungk7",
        "outputId": "15af626c-4377-4772-f94d-d1512ace7b6d",
        "colab": {
          "base_uri": "https://localhost:8080/"
        }
      },
      "source": [
        "# Visualizando valores únicos das vendas\n",
        "day = sales_train_df['DayOfWeek'].unique()\n",
        "open = sales_train_df['Open'].unique()\n",
        "promo = sales_train_df['Promo'].unique()\n",
        "state_holiday = sales_train_df['StateHoliday'].unique()\n",
        "school_holiday = sales_train_df['SchoolHoliday'].unique()\n",
        "\n",
        "print('Dias da semana: {} \\nAberta ou fechada: {} \\nPromoção: {} \\nFeriado: {} \\nFeriado escolar: {}'\\\n",
        "      .format(day, open, promo, state_holiday, school_holiday))"
      ],
      "execution_count": 13,
      "outputs": [
        {
          "output_type": "stream",
          "text": [
            "Dias da semana: [5 4 3 2 1 7 6] \n",
            "Aberta ou fechada: [1 0] \n",
            "Promoção: [1 0] \n",
            "Feriado: ['0' 'a' 'b' 'c' 0] \n",
            "Feriado escolar: [1 0]\n"
          ],
          "name": "stdout"
        }
      ]
    },
    {
      "cell_type": "code",
      "metadata": {
        "id": "mgWvys4cmw9J",
        "outputId": "06bf8c5b-ada4-4f56-93cc-6584adb2940b",
        "colab": {
          "base_uri": "https://localhost:8080/"
        }
      },
      "source": [
        "# Informações\n",
        "sales_train_df.info()"
      ],
      "execution_count": 15,
      "outputs": [
        {
          "output_type": "stream",
          "text": [
            "<class 'pandas.core.frame.DataFrame'>\n",
            "RangeIndex: 1017209 entries, 0 to 1017208\n",
            "Data columns (total 9 columns):\n",
            " #   Column         Non-Null Count    Dtype \n",
            "---  ------         --------------    ----- \n",
            " 0   Store          1017209 non-null  int64 \n",
            " 1   DayOfWeek      1017209 non-null  int64 \n",
            " 2   Date           1017209 non-null  object\n",
            " 3   Sales          1017209 non-null  int64 \n",
            " 4   Customers      1017209 non-null  int64 \n",
            " 5   Open           1017209 non-null  int64 \n",
            " 6   Promo          1017209 non-null  int64 \n",
            " 7   StateHoliday   1017209 non-null  object\n",
            " 8   SchoolHoliday  1017209 non-null  int64 \n",
            "dtypes: int64(7), object(2)\n",
            "memory usage: 69.8+ MB\n"
          ],
          "name": "stdout"
        }
      ]
    },
    {
      "cell_type": "code",
      "metadata": {
        "id": "2_TJbCHInXpl",
        "outputId": "65af0aed-b6f7-42cb-b4b5-cb32ecdba780",
        "colab": {
          "base_uri": "https://localhost:8080/",
          "height": 297
        }
      },
      "source": [
        "# Visualizando estatísticas\n",
        "sales_train_df.describe()"
      ],
      "execution_count": 16,
      "outputs": [
        {
          "output_type": "execute_result",
          "data": {
            "text/html": [
              "<div>\n",
              "<style scoped>\n",
              "    .dataframe tbody tr th:only-of-type {\n",
              "        vertical-align: middle;\n",
              "    }\n",
              "\n",
              "    .dataframe tbody tr th {\n",
              "        vertical-align: top;\n",
              "    }\n",
              "\n",
              "    .dataframe thead th {\n",
              "        text-align: right;\n",
              "    }\n",
              "</style>\n",
              "<table border=\"1\" class=\"dataframe\">\n",
              "  <thead>\n",
              "    <tr style=\"text-align: right;\">\n",
              "      <th></th>\n",
              "      <th>Store</th>\n",
              "      <th>DayOfWeek</th>\n",
              "      <th>Sales</th>\n",
              "      <th>Customers</th>\n",
              "      <th>Open</th>\n",
              "      <th>Promo</th>\n",
              "      <th>SchoolHoliday</th>\n",
              "    </tr>\n",
              "  </thead>\n",
              "  <tbody>\n",
              "    <tr>\n",
              "      <th>count</th>\n",
              "      <td>1.017209e+06</td>\n",
              "      <td>1.017209e+06</td>\n",
              "      <td>1.017209e+06</td>\n",
              "      <td>1.017209e+06</td>\n",
              "      <td>1.017209e+06</td>\n",
              "      <td>1.017209e+06</td>\n",
              "      <td>1.017209e+06</td>\n",
              "    </tr>\n",
              "    <tr>\n",
              "      <th>mean</th>\n",
              "      <td>5.584297e+02</td>\n",
              "      <td>3.998341e+00</td>\n",
              "      <td>5.773819e+03</td>\n",
              "      <td>6.331459e+02</td>\n",
              "      <td>8.301067e-01</td>\n",
              "      <td>3.815145e-01</td>\n",
              "      <td>1.786467e-01</td>\n",
              "    </tr>\n",
              "    <tr>\n",
              "      <th>std</th>\n",
              "      <td>3.219087e+02</td>\n",
              "      <td>1.997391e+00</td>\n",
              "      <td>3.849926e+03</td>\n",
              "      <td>4.644117e+02</td>\n",
              "      <td>3.755392e-01</td>\n",
              "      <td>4.857586e-01</td>\n",
              "      <td>3.830564e-01</td>\n",
              "    </tr>\n",
              "    <tr>\n",
              "      <th>min</th>\n",
              "      <td>1.000000e+00</td>\n",
              "      <td>1.000000e+00</td>\n",
              "      <td>0.000000e+00</td>\n",
              "      <td>0.000000e+00</td>\n",
              "      <td>0.000000e+00</td>\n",
              "      <td>0.000000e+00</td>\n",
              "      <td>0.000000e+00</td>\n",
              "    </tr>\n",
              "    <tr>\n",
              "      <th>25%</th>\n",
              "      <td>2.800000e+02</td>\n",
              "      <td>2.000000e+00</td>\n",
              "      <td>3.727000e+03</td>\n",
              "      <td>4.050000e+02</td>\n",
              "      <td>1.000000e+00</td>\n",
              "      <td>0.000000e+00</td>\n",
              "      <td>0.000000e+00</td>\n",
              "    </tr>\n",
              "    <tr>\n",
              "      <th>50%</th>\n",
              "      <td>5.580000e+02</td>\n",
              "      <td>4.000000e+00</td>\n",
              "      <td>5.744000e+03</td>\n",
              "      <td>6.090000e+02</td>\n",
              "      <td>1.000000e+00</td>\n",
              "      <td>0.000000e+00</td>\n",
              "      <td>0.000000e+00</td>\n",
              "    </tr>\n",
              "    <tr>\n",
              "      <th>75%</th>\n",
              "      <td>8.380000e+02</td>\n",
              "      <td>6.000000e+00</td>\n",
              "      <td>7.856000e+03</td>\n",
              "      <td>8.370000e+02</td>\n",
              "      <td>1.000000e+00</td>\n",
              "      <td>1.000000e+00</td>\n",
              "      <td>0.000000e+00</td>\n",
              "    </tr>\n",
              "    <tr>\n",
              "      <th>max</th>\n",
              "      <td>1.115000e+03</td>\n",
              "      <td>7.000000e+00</td>\n",
              "      <td>4.155100e+04</td>\n",
              "      <td>7.388000e+03</td>\n",
              "      <td>1.000000e+00</td>\n",
              "      <td>1.000000e+00</td>\n",
              "      <td>1.000000e+00</td>\n",
              "    </tr>\n",
              "  </tbody>\n",
              "</table>\n",
              "</div>"
            ],
            "text/plain": [
              "              Store     DayOfWeek  ...         Promo  SchoolHoliday\n",
              "count  1.017209e+06  1.017209e+06  ...  1.017209e+06   1.017209e+06\n",
              "mean   5.584297e+02  3.998341e+00  ...  3.815145e-01   1.786467e-01\n",
              "std    3.219087e+02  1.997391e+00  ...  4.857586e-01   3.830564e-01\n",
              "min    1.000000e+00  1.000000e+00  ...  0.000000e+00   0.000000e+00\n",
              "25%    2.800000e+02  2.000000e+00  ...  0.000000e+00   0.000000e+00\n",
              "50%    5.580000e+02  4.000000e+00  ...  0.000000e+00   0.000000e+00\n",
              "75%    8.380000e+02  6.000000e+00  ...  1.000000e+00   0.000000e+00\n",
              "max    1.115000e+03  7.000000e+00  ...  1.000000e+00   1.000000e+00\n",
              "\n",
              "[8 rows x 7 columns]"
            ]
          },
          "metadata": {
            "tags": []
          },
          "execution_count": 16
        }
      ]
    },
    {
      "cell_type": "markdown",
      "metadata": {
        "id": "xUzGAG0ZrJyX"
      },
      "source": [
        "### Dados das lojas"
      ]
    },
    {
      "cell_type": "code",
      "metadata": {
        "id": "6fBznOuQpiko"
      },
      "source": [
        "# Carregando a base de dados\n",
        "stores_info_df = pd.read_csv('/content/store.csv')"
      ],
      "execution_count": 21,
      "outputs": []
    },
    {
      "cell_type": "code",
      "metadata": {
        "id": "L0zqckAErVbt",
        "outputId": "b850ec38-832a-4c45-c8c3-1c70879451e6",
        "colab": {
          "base_uri": "https://localhost:8080/"
        }
      },
      "source": [
        "# Visualizando shape\n",
        "l, c = pd.read_csv('/content/store.csv').shape\n",
        "print('Número de registros: {} \\nNúmeros de coluna: {}'.format(l, c))"
      ],
      "execution_count": 22,
      "outputs": [
        {
          "output_type": "stream",
          "text": [
            "Número de registros: 1115 \n",
            "Números de coluna: 10\n"
          ],
          "name": "stdout"
        }
      ]
    },
    {
      "cell_type": "code",
      "metadata": {
        "id": "LMdLmx_xrfJs",
        "outputId": "8d24134a-5216-4c62-dd18-c19bc8634c2b",
        "colab": {
          "base_uri": "https://localhost:8080/",
          "height": 224
        }
      },
      "source": [
        "# Visualizando o cabeçalho\n",
        "stores_info_df.head()"
      ],
      "execution_count": 23,
      "outputs": [
        {
          "output_type": "execute_result",
          "data": {
            "text/html": [
              "<div>\n",
              "<style scoped>\n",
              "    .dataframe tbody tr th:only-of-type {\n",
              "        vertical-align: middle;\n",
              "    }\n",
              "\n",
              "    .dataframe tbody tr th {\n",
              "        vertical-align: top;\n",
              "    }\n",
              "\n",
              "    .dataframe thead th {\n",
              "        text-align: right;\n",
              "    }\n",
              "</style>\n",
              "<table border=\"1\" class=\"dataframe\">\n",
              "  <thead>\n",
              "    <tr style=\"text-align: right;\">\n",
              "      <th></th>\n",
              "      <th>Store</th>\n",
              "      <th>StoreType</th>\n",
              "      <th>Assortment</th>\n",
              "      <th>CompetitionDistance</th>\n",
              "      <th>CompetitionOpenSinceMonth</th>\n",
              "      <th>CompetitionOpenSinceYear</th>\n",
              "      <th>Promo2</th>\n",
              "      <th>Promo2SinceWeek</th>\n",
              "      <th>Promo2SinceYear</th>\n",
              "      <th>PromoInterval</th>\n",
              "    </tr>\n",
              "  </thead>\n",
              "  <tbody>\n",
              "    <tr>\n",
              "      <th>0</th>\n",
              "      <td>1</td>\n",
              "      <td>c</td>\n",
              "      <td>a</td>\n",
              "      <td>1270.0</td>\n",
              "      <td>9.0</td>\n",
              "      <td>2008.0</td>\n",
              "      <td>0</td>\n",
              "      <td>NaN</td>\n",
              "      <td>NaN</td>\n",
              "      <td>NaN</td>\n",
              "    </tr>\n",
              "    <tr>\n",
              "      <th>1</th>\n",
              "      <td>2</td>\n",
              "      <td>a</td>\n",
              "      <td>a</td>\n",
              "      <td>570.0</td>\n",
              "      <td>11.0</td>\n",
              "      <td>2007.0</td>\n",
              "      <td>1</td>\n",
              "      <td>13.0</td>\n",
              "      <td>2010.0</td>\n",
              "      <td>Jan,Apr,Jul,Oct</td>\n",
              "    </tr>\n",
              "    <tr>\n",
              "      <th>2</th>\n",
              "      <td>3</td>\n",
              "      <td>a</td>\n",
              "      <td>a</td>\n",
              "      <td>14130.0</td>\n",
              "      <td>12.0</td>\n",
              "      <td>2006.0</td>\n",
              "      <td>1</td>\n",
              "      <td>14.0</td>\n",
              "      <td>2011.0</td>\n",
              "      <td>Jan,Apr,Jul,Oct</td>\n",
              "    </tr>\n",
              "    <tr>\n",
              "      <th>3</th>\n",
              "      <td>4</td>\n",
              "      <td>c</td>\n",
              "      <td>c</td>\n",
              "      <td>620.0</td>\n",
              "      <td>9.0</td>\n",
              "      <td>2009.0</td>\n",
              "      <td>0</td>\n",
              "      <td>NaN</td>\n",
              "      <td>NaN</td>\n",
              "      <td>NaN</td>\n",
              "    </tr>\n",
              "    <tr>\n",
              "      <th>4</th>\n",
              "      <td>5</td>\n",
              "      <td>a</td>\n",
              "      <td>a</td>\n",
              "      <td>29910.0</td>\n",
              "      <td>4.0</td>\n",
              "      <td>2015.0</td>\n",
              "      <td>0</td>\n",
              "      <td>NaN</td>\n",
              "      <td>NaN</td>\n",
              "      <td>NaN</td>\n",
              "    </tr>\n",
              "  </tbody>\n",
              "</table>\n",
              "</div>"
            ],
            "text/plain": [
              "   Store StoreType  ... Promo2SinceYear    PromoInterval\n",
              "0      1         c  ...             NaN              NaN\n",
              "1      2         a  ...          2010.0  Jan,Apr,Jul,Oct\n",
              "2      3         a  ...          2011.0  Jan,Apr,Jul,Oct\n",
              "3      4         c  ...             NaN              NaN\n",
              "4      5         a  ...             NaN              NaN\n",
              "\n",
              "[5 rows x 10 columns]"
            ]
          },
          "metadata": {
            "tags": []
          },
          "execution_count": 23
        }
      ]
    },
    {
      "cell_type": "code",
      "metadata": {
        "id": "x8HJom-8rut3",
        "outputId": "589b0f2e-df63-4031-8ddd-cb5b63da77d1",
        "colab": {
          "base_uri": "https://localhost:8080/"
        }
      },
      "source": [
        "# Informações\n",
        "stores_info_df.info()"
      ],
      "execution_count": 24,
      "outputs": [
        {
          "output_type": "stream",
          "text": [
            "<class 'pandas.core.frame.DataFrame'>\n",
            "RangeIndex: 1115 entries, 0 to 1114\n",
            "Data columns (total 10 columns):\n",
            " #   Column                     Non-Null Count  Dtype  \n",
            "---  ------                     --------------  -----  \n",
            " 0   Store                      1115 non-null   int64  \n",
            " 1   StoreType                  1115 non-null   object \n",
            " 2   Assortment                 1115 non-null   object \n",
            " 3   CompetitionDistance        1112 non-null   float64\n",
            " 4   CompetitionOpenSinceMonth  761 non-null    float64\n",
            " 5   CompetitionOpenSinceYear   761 non-null    float64\n",
            " 6   Promo2                     1115 non-null   int64  \n",
            " 7   Promo2SinceWeek            571 non-null    float64\n",
            " 8   Promo2SinceYear            571 non-null    float64\n",
            " 9   PromoInterval              571 non-null    object \n",
            "dtypes: float64(5), int64(2), object(3)\n",
            "memory usage: 87.2+ KB\n"
          ],
          "name": "stdout"
        }
      ]
    },
    {
      "cell_type": "code",
      "metadata": {
        "id": "_46e6jYRsbTO",
        "outputId": "3ec1e4a1-744a-4558-d8a2-23318dff63d1",
        "colab": {
          "base_uri": "https://localhost:8080/",
          "height": 297
        }
      },
      "source": [
        "# Visualizando estatísticas\n",
        "stores_info_df.describe()"
      ],
      "execution_count": 25,
      "outputs": [
        {
          "output_type": "execute_result",
          "data": {
            "text/html": [
              "<div>\n",
              "<style scoped>\n",
              "    .dataframe tbody tr th:only-of-type {\n",
              "        vertical-align: middle;\n",
              "    }\n",
              "\n",
              "    .dataframe tbody tr th {\n",
              "        vertical-align: top;\n",
              "    }\n",
              "\n",
              "    .dataframe thead th {\n",
              "        text-align: right;\n",
              "    }\n",
              "</style>\n",
              "<table border=\"1\" class=\"dataframe\">\n",
              "  <thead>\n",
              "    <tr style=\"text-align: right;\">\n",
              "      <th></th>\n",
              "      <th>Store</th>\n",
              "      <th>CompetitionDistance</th>\n",
              "      <th>CompetitionOpenSinceMonth</th>\n",
              "      <th>CompetitionOpenSinceYear</th>\n",
              "      <th>Promo2</th>\n",
              "      <th>Promo2SinceWeek</th>\n",
              "      <th>Promo2SinceYear</th>\n",
              "    </tr>\n",
              "  </thead>\n",
              "  <tbody>\n",
              "    <tr>\n",
              "      <th>count</th>\n",
              "      <td>1115.00000</td>\n",
              "      <td>1112.000000</td>\n",
              "      <td>761.000000</td>\n",
              "      <td>761.000000</td>\n",
              "      <td>1115.000000</td>\n",
              "      <td>571.000000</td>\n",
              "      <td>571.000000</td>\n",
              "    </tr>\n",
              "    <tr>\n",
              "      <th>mean</th>\n",
              "      <td>558.00000</td>\n",
              "      <td>5404.901079</td>\n",
              "      <td>7.224704</td>\n",
              "      <td>2008.668857</td>\n",
              "      <td>0.512108</td>\n",
              "      <td>23.595447</td>\n",
              "      <td>2011.763573</td>\n",
              "    </tr>\n",
              "    <tr>\n",
              "      <th>std</th>\n",
              "      <td>322.01708</td>\n",
              "      <td>7663.174720</td>\n",
              "      <td>3.212348</td>\n",
              "      <td>6.195983</td>\n",
              "      <td>0.500078</td>\n",
              "      <td>14.141984</td>\n",
              "      <td>1.674935</td>\n",
              "    </tr>\n",
              "    <tr>\n",
              "      <th>min</th>\n",
              "      <td>1.00000</td>\n",
              "      <td>20.000000</td>\n",
              "      <td>1.000000</td>\n",
              "      <td>1900.000000</td>\n",
              "      <td>0.000000</td>\n",
              "      <td>1.000000</td>\n",
              "      <td>2009.000000</td>\n",
              "    </tr>\n",
              "    <tr>\n",
              "      <th>25%</th>\n",
              "      <td>279.50000</td>\n",
              "      <td>717.500000</td>\n",
              "      <td>4.000000</td>\n",
              "      <td>2006.000000</td>\n",
              "      <td>0.000000</td>\n",
              "      <td>13.000000</td>\n",
              "      <td>2011.000000</td>\n",
              "    </tr>\n",
              "    <tr>\n",
              "      <th>50%</th>\n",
              "      <td>558.00000</td>\n",
              "      <td>2325.000000</td>\n",
              "      <td>8.000000</td>\n",
              "      <td>2010.000000</td>\n",
              "      <td>1.000000</td>\n",
              "      <td>22.000000</td>\n",
              "      <td>2012.000000</td>\n",
              "    </tr>\n",
              "    <tr>\n",
              "      <th>75%</th>\n",
              "      <td>836.50000</td>\n",
              "      <td>6882.500000</td>\n",
              "      <td>10.000000</td>\n",
              "      <td>2013.000000</td>\n",
              "      <td>1.000000</td>\n",
              "      <td>37.000000</td>\n",
              "      <td>2013.000000</td>\n",
              "    </tr>\n",
              "    <tr>\n",
              "      <th>max</th>\n",
              "      <td>1115.00000</td>\n",
              "      <td>75860.000000</td>\n",
              "      <td>12.000000</td>\n",
              "      <td>2015.000000</td>\n",
              "      <td>1.000000</td>\n",
              "      <td>50.000000</td>\n",
              "      <td>2015.000000</td>\n",
              "    </tr>\n",
              "  </tbody>\n",
              "</table>\n",
              "</div>"
            ],
            "text/plain": [
              "            Store  CompetitionDistance  ...  Promo2SinceWeek  Promo2SinceYear\n",
              "count  1115.00000          1112.000000  ...       571.000000       571.000000\n",
              "mean    558.00000          5404.901079  ...        23.595447      2011.763573\n",
              "std     322.01708          7663.174720  ...        14.141984         1.674935\n",
              "min       1.00000            20.000000  ...         1.000000      2009.000000\n",
              "25%     279.50000           717.500000  ...        13.000000      2011.000000\n",
              "50%     558.00000          2325.000000  ...        22.000000      2012.000000\n",
              "75%     836.50000          6882.500000  ...        37.000000      2013.000000\n",
              "max    1115.00000         75860.000000  ...        50.000000      2015.000000\n",
              "\n",
              "[8 rows x 7 columns]"
            ]
          },
          "metadata": {
            "tags": []
          },
          "execution_count": 25
        }
      ]
    },
    {
      "cell_type": "markdown",
      "metadata": {
        "id": "-vSrnjBNxBiz"
      },
      "source": [
        "## Exploração dos dados"
      ]
    },
    {
      "cell_type": "markdown",
      "metadata": {
        "id": "ukLIB4H2xL2A"
      },
      "source": [
        "### Dados das vendas"
      ]
    },
    {
      "cell_type": "code",
      "metadata": {
        "id": "AwG6X_0XxQut",
        "outputId": "92a94406-4105-4529-cd1b-e486c9a50009",
        "colab": {
          "base_uri": "https://localhost:8080/",
          "height": 330
        }
      },
      "source": [
        "# Verificando existência de valores faltantes\n",
        "sns.heatmap(data=sales_train_df.isnull());"
      ],
      "execution_count": 27,
      "outputs": [
        {
          "output_type": "display_data",
          "data": {
            "image/png": "[encoded data removed]",
            "text/plain": [
              "<Figure size 432x288 with 2 Axes>"
            ]
          },
          "metadata": {
            "tags": [],
            "needs_background": "light"
          }
        }
      ]
    },
    {
      "cell_type": "code",
      "metadata": {
        "id": "zXM_ntxqxDiK",
        "outputId": "a7f1155d-e7f6-4b15-a210-167bd42761f0",
        "colab": {
          "base_uri": "https://localhost:8080/"
        }
      },
      "source": [
        "sales_train_df.isnull().sum()"
      ],
      "execution_count": 28,
      "outputs": [
        {
          "output_type": "execute_result",
          "data": {
            "text/plain": [
              "Store            0\n",
              "DayOfWeek        0\n",
              "Date             0\n",
              "Sales            0\n",
              "Customers        0\n",
              "Open             0\n",
              "Promo            0\n",
              "StateHoliday     0\n",
              "SchoolHoliday    0\n",
              "dtype: int64"
            ]
          },
          "metadata": {
            "tags": []
          },
          "execution_count": 28
        }
      ]
    },
    {
      "cell_type": "markdown",
      "metadata": {
        "id": "2ENXT-QVxtDs"
      },
      "source": [
        "Logo, não há valores nulos."
      ]
    },
    {
      "cell_type": "code",
      "metadata": {
        "id": "7CKQamqmxvTD",
        "outputId": "a0332bfe-bf87-488d-93d9-f1d9013839f7",
        "colab": {
          "base_uri": "https://localhost:8080/",
          "height": 1000
        }
      },
      "source": [
        "# Histograma\n",
        "sales_train_df.hist(bins=30, figsize=(20,20), color='r');"
      ],
      "execution_count": 30,
      "outputs": [
        {
          "output_type": "display_data",
          "data": {
            "image/png": "[encoded data removed]",
            "text/plain": [
              "<Figure size 1440x1440 with 9 Axes>"
            ]
          },
          "metadata": {
            "tags": [],
            "needs_background": "light"
          }
        }
      ]
    },
    {
      "cell_type": "code",
      "metadata": {
        "id": "_UnsjBJ2yArF",
        "outputId": "b4a0679c-f553-4e3a-b6e3-124307c81f45",
        "colab": {
          "base_uri": "https://localhost:8080/"
        }
      },
      "source": [
        "# Verificando valor máximo de pessoas em um dia\n",
        "sales_train_df['Customers'].max()"
      ],
      "execution_count": 31,
      "outputs": [
        {
          "output_type": "execute_result",
          "data": {
            "text/plain": [
              "7388"
            ]
          },
          "metadata": {
            "tags": []
          },
          "execution_count": 31
        }
      ]
    },
    {
      "cell_type": "markdown",
      "metadata": {
        "id": "p40zsY3xyvvv"
      },
      "source": [
        "Para uma melhor análise, iremos gerar dois dataframes: para quando as lojas estão abertas e para quando as lojas estão fechadas. "
      ]
    },
    {
      "cell_type": "code",
      "metadata": {
        "id": "lM5ncd99ykp8"
      },
      "source": [
        "# Lojas fechadas\n",
        "closed_train_df = sales_train_df.query('Open == 0')\n",
        "\n",
        "# Lojas abertas\n",
        "open_train_df = sales_train_df.query('Open == 1')"
      ],
      "execution_count": 34,
      "outputs": []
    },
    {
      "cell_type": "code",
      "metadata": {
        "id": "qJVvH8jMzK9-",
        "outputId": "33b27aa6-ad05-4456-8980-70d0ca456299",
        "colab": {
          "base_uri": "https://localhost:8080/"
        }
      },
      "source": [
        "print('Total: {} \\nNúmero de lojas/dias fechados {} \\nNúmero de lojas/dias abertos: {} '\\\n",
        "      .format(len(sales_train_df), len(closed_train_df), len(open_train_df)))"
      ],
      "execution_count": 36,
      "outputs": [
        {
          "output_type": "stream",
          "text": [
            "Total: 1017209 \n",
            "Número de lojas/dias fechados 172817 \n",
            "Número de lojas/dias abertos: 844392 \n"
          ],
          "name": "stdout"
        }
      ]
    },
    {
      "cell_type": "code",
      "metadata": {
        "id": "MEdY1Tnf1LhE",
        "outputId": "2e61115d-2eff-47ba-eb28-ad3e6eb8d730",
        "colab": {
          "base_uri": "https://localhost:8080/",
          "height": 204
        }
      },
      "source": [
        "# Visualizando dataframe das lojas fechadas\n",
        "closed_train_df.head()"
      ],
      "execution_count": 40,
      "outputs": [
        {
          "output_type": "execute_result",
          "data": {
            "text/html": [
              "<div>\n",
              "<style scoped>\n",
              "    .dataframe tbody tr th:only-of-type {\n",
              "        vertical-align: middle;\n",
              "    }\n",
              "\n",
              "    .dataframe tbody tr th {\n",
              "        vertical-align: top;\n",
              "    }\n",
              "\n",
              "    .dataframe thead th {\n",
              "        text-align: right;\n",
              "    }\n",
              "</style>\n",
              "<table border=\"1\" class=\"dataframe\">\n",
              "  <thead>\n",
              "    <tr style=\"text-align: right;\">\n",
              "      <th></th>\n",
              "      <th>Store</th>\n",
              "      <th>DayOfWeek</th>\n",
              "      <th>Date</th>\n",
              "      <th>Sales</th>\n",
              "      <th>Customers</th>\n",
              "      <th>Open</th>\n",
              "      <th>Promo</th>\n",
              "      <th>StateHoliday</th>\n",
              "      <th>SchoolHoliday</th>\n",
              "    </tr>\n",
              "  </thead>\n",
              "  <tbody>\n",
              "    <tr>\n",
              "      <th>291</th>\n",
              "      <td>292</td>\n",
              "      <td>5</td>\n",
              "      <td>2015-07-31</td>\n",
              "      <td>0</td>\n",
              "      <td>0</td>\n",
              "      <td>0</td>\n",
              "      <td>1</td>\n",
              "      <td>0</td>\n",
              "      <td>1</td>\n",
              "    </tr>\n",
              "    <tr>\n",
              "      <th>875</th>\n",
              "      <td>876</td>\n",
              "      <td>5</td>\n",
              "      <td>2015-07-31</td>\n",
              "      <td>0</td>\n",
              "      <td>0</td>\n",
              "      <td>0</td>\n",
              "      <td>1</td>\n",
              "      <td>0</td>\n",
              "      <td>1</td>\n",
              "    </tr>\n",
              "    <tr>\n",
              "      <th>1406</th>\n",
              "      <td>292</td>\n",
              "      <td>4</td>\n",
              "      <td>2015-07-30</td>\n",
              "      <td>0</td>\n",
              "      <td>0</td>\n",
              "      <td>0</td>\n",
              "      <td>1</td>\n",
              "      <td>0</td>\n",
              "      <td>1</td>\n",
              "    </tr>\n",
              "    <tr>\n",
              "      <th>1990</th>\n",
              "      <td>876</td>\n",
              "      <td>4</td>\n",
              "      <td>2015-07-30</td>\n",
              "      <td>0</td>\n",
              "      <td>0</td>\n",
              "      <td>0</td>\n",
              "      <td>1</td>\n",
              "      <td>0</td>\n",
              "      <td>1</td>\n",
              "    </tr>\n",
              "    <tr>\n",
              "      <th>2521</th>\n",
              "      <td>292</td>\n",
              "      <td>3</td>\n",
              "      <td>2015-07-29</td>\n",
              "      <td>0</td>\n",
              "      <td>0</td>\n",
              "      <td>0</td>\n",
              "      <td>1</td>\n",
              "      <td>0</td>\n",
              "      <td>1</td>\n",
              "    </tr>\n",
              "  </tbody>\n",
              "</table>\n",
              "</div>"
            ],
            "text/plain": [
              "      Store  DayOfWeek        Date  ...  Promo  StateHoliday  SchoolHoliday\n",
              "291     292          5  2015-07-31  ...      1             0              1\n",
              "875     876          5  2015-07-31  ...      1             0              1\n",
              "1406    292          4  2015-07-30  ...      1             0              1\n",
              "1990    876          4  2015-07-30  ...      1             0              1\n",
              "2521    292          3  2015-07-29  ...      1             0              1\n",
              "\n",
              "[5 rows x 9 columns]"
            ]
          },
          "metadata": {
            "tags": []
          },
          "execution_count": 40
        }
      ]
    },
    {
      "cell_type": "code",
      "metadata": {
        "id": "5ficA0Js1R-g",
        "outputId": "8f111cd0-e9b4-4cf5-c5bd-ea25b01c2bf5",
        "colab": {
          "base_uri": "https://localhost:8080/",
          "height": 204
        }
      },
      "source": [
        "# Visualizando dataframe das lojas abertas\n",
        "open_train_df.head()"
      ],
      "execution_count": 41,
      "outputs": [
        {
          "output_type": "execute_result",
          "data": {
            "text/html": [
              "<div>\n",
              "<style scoped>\n",
              "    .dataframe tbody tr th:only-of-type {\n",
              "        vertical-align: middle;\n",
              "    }\n",
              "\n",
              "    .dataframe tbody tr th {\n",
              "        vertical-align: top;\n",
              "    }\n",
              "\n",
              "    .dataframe thead th {\n",
              "        text-align: right;\n",
              "    }\n",
              "</style>\n",
              "<table border=\"1\" class=\"dataframe\">\n",
              "  <thead>\n",
              "    <tr style=\"text-align: right;\">\n",
              "      <th></th>\n",
              "      <th>Store</th>\n",
              "      <th>DayOfWeek</th>\n",
              "      <th>Date</th>\n",
              "      <th>Sales</th>\n",
              "      <th>Customers</th>\n",
              "      <th>Open</th>\n",
              "      <th>Promo</th>\n",
              "      <th>StateHoliday</th>\n",
              "      <th>SchoolHoliday</th>\n",
              "    </tr>\n",
              "  </thead>\n",
              "  <tbody>\n",
              "    <tr>\n",
              "      <th>0</th>\n",
              "      <td>1</td>\n",
              "      <td>5</td>\n",
              "      <td>2015-07-31</td>\n",
              "      <td>5263</td>\n",
              "      <td>555</td>\n",
              "      <td>1</td>\n",
              "      <td>1</td>\n",
              "      <td>0</td>\n",
              "      <td>1</td>\n",
              "    </tr>\n",
              "    <tr>\n",
              "      <th>1</th>\n",
              "      <td>2</td>\n",
              "      <td>5</td>\n",
              "      <td>2015-07-31</td>\n",
              "      <td>6064</td>\n",
              "      <td>625</td>\n",
              "      <td>1</td>\n",
              "      <td>1</td>\n",
              "      <td>0</td>\n",
              "      <td>1</td>\n",
              "    </tr>\n",
              "    <tr>\n",
              "      <th>2</th>\n",
              "      <td>3</td>\n",
              "      <td>5</td>\n",
              "      <td>2015-07-31</td>\n",
              "      <td>8314</td>\n",
              "      <td>821</td>\n",
              "      <td>1</td>\n",
              "      <td>1</td>\n",
              "      <td>0</td>\n",
              "      <td>1</td>\n",
              "    </tr>\n",
              "    <tr>\n",
              "      <th>3</th>\n",
              "      <td>4</td>\n",
              "      <td>5</td>\n",
              "      <td>2015-07-31</td>\n",
              "      <td>13995</td>\n",
              "      <td>1498</td>\n",
              "      <td>1</td>\n",
              "      <td>1</td>\n",
              "      <td>0</td>\n",
              "      <td>1</td>\n",
              "    </tr>\n",
              "    <tr>\n",
              "      <th>4</th>\n",
              "      <td>5</td>\n",
              "      <td>5</td>\n",
              "      <td>2015-07-31</td>\n",
              "      <td>4822</td>\n",
              "      <td>559</td>\n",
              "      <td>1</td>\n",
              "      <td>1</td>\n",
              "      <td>0</td>\n",
              "      <td>1</td>\n",
              "    </tr>\n",
              "  </tbody>\n",
              "</table>\n",
              "</div>"
            ],
            "text/plain": [
              "   Store  DayOfWeek        Date  Sales  ...  Open  Promo  StateHoliday SchoolHoliday\n",
              "0      1          5  2015-07-31   5263  ...     1      1             0             1\n",
              "1      2          5  2015-07-31   6064  ...     1      1             0             1\n",
              "2      3          5  2015-07-31   8314  ...     1      1             0             1\n",
              "3      4          5  2015-07-31  13995  ...     1      1             0             1\n",
              "4      5          5  2015-07-31   4822  ...     1      1             0             1\n",
              "\n",
              "[5 rows x 9 columns]"
            ]
          },
          "metadata": {
            "tags": []
          },
          "execution_count": 41
        }
      ]
    },
    {
      "cell_type": "markdown",
      "metadata": {
        "id": "D4aZ11YU0Owh"
      },
      "source": [
        "Note que temos os números de dias das lojas abertas ou fechadas para todas as 17 lojas. Para visualizarmos o este número para cada loja separadamente temos:"
      ]
    },
    {
      "cell_type": "code",
      "metadata": {
        "id": "E-vxn7FWzLbL",
        "outputId": "d8815d6d-ddaf-47d4-c955-45b135c6d1f5",
        "colab": {
          "base_uri": "https://localhost:8080/"
        }
      },
      "source": [
        "# Número de dias com as lojas fechadas\n",
        "len(closed_train_df) / len(stores_info_df)"
      ],
      "execution_count": 39,
      "outputs": [
        {
          "output_type": "execute_result",
          "data": {
            "text/plain": [
              "154.99282511210762"
            ]
          },
          "metadata": {
            "tags": []
          },
          "execution_count": 39
        }
      ]
    },
    {
      "cell_type": "markdown",
      "metadata": {
        "id": "wLQKiKgF1h15"
      },
      "source": [
        "Desta forma, recriaremos o dataframe considerando apenas os dias em que as lojas estavam abertas."
      ]
    },
    {
      "cell_type": "code",
      "metadata": {
        "id": "g-ZLV73O0ssD"
      },
      "source": [
        "# Redefinindo o dataframe\n",
        "sales_train_df = sales_train_df.query('Open == 1')"
      ],
      "execution_count": 42,
      "outputs": []
    },
    {
      "cell_type": "code",
      "metadata": {
        "id": "GdCAvzYM1tdz",
        "outputId": "25f0fdfb-e680-4378-d9cd-4a000c46119f",
        "colab": {
          "base_uri": "https://localhost:8080/"
        }
      },
      "source": [
        "# Visualizando seu novo shape\n",
        "sales_train_df.shape"
      ],
      "execution_count": 43,
      "outputs": [
        {
          "output_type": "execute_result",
          "data": {
            "text/plain": [
              "(844392, 9)"
            ]
          },
          "metadata": {
            "tags": []
          },
          "execution_count": 43
        }
      ]
    },
    {
      "cell_type": "code",
      "metadata": {
        "id": "mSwrf7R61vwL",
        "outputId": "e2a47c0d-8d98-48f2-aba2-e8c2c1aad04f",
        "colab": {
          "base_uri": "https://localhost:8080/",
          "height": 419
        }
      },
      "source": [
        "# Visualizando novamente\n",
        "sales_train_df"
      ],
      "execution_count": 44,
      "outputs": [
        {
          "output_type": "execute_result",
          "data": {
            "text/html": [
              "<div>\n",
              "<style scoped>\n",
              "    .dataframe tbody tr th:only-of-type {\n",
              "        vertical-align: middle;\n",
              "    }\n",
              "\n",
              "    .dataframe tbody tr th {\n",
              "        vertical-align: top;\n",
              "    }\n",
              "\n",
              "    .dataframe thead th {\n",
              "        text-align: right;\n",
              "    }\n",
              "</style>\n",
              "<table border=\"1\" class=\"dataframe\">\n",
              "  <thead>\n",
              "    <tr style=\"text-align: right;\">\n",
              "      <th></th>\n",
              "      <th>Store</th>\n",
              "      <th>DayOfWeek</th>\n",
              "      <th>Date</th>\n",
              "      <th>Sales</th>\n",
              "      <th>Customers</th>\n",
              "      <th>Open</th>\n",
              "      <th>Promo</th>\n",
              "      <th>StateHoliday</th>\n",
              "      <th>SchoolHoliday</th>\n",
              "    </tr>\n",
              "  </thead>\n",
              "  <tbody>\n",
              "    <tr>\n",
              "      <th>0</th>\n",
              "      <td>1</td>\n",
              "      <td>5</td>\n",
              "      <td>2015-07-31</td>\n",
              "      <td>5263</td>\n",
              "      <td>555</td>\n",
              "      <td>1</td>\n",
              "      <td>1</td>\n",
              "      <td>0</td>\n",
              "      <td>1</td>\n",
              "    </tr>\n",
              "    <tr>\n",
              "      <th>1</th>\n",
              "      <td>2</td>\n",
              "      <td>5</td>\n",
              "      <td>2015-07-31</td>\n",
              "      <td>6064</td>\n",
              "      <td>625</td>\n",
              "      <td>1</td>\n",
              "      <td>1</td>\n",
              "      <td>0</td>\n",
              "      <td>1</td>\n",
              "    </tr>\n",
              "    <tr>\n",
              "      <th>2</th>\n",
              "      <td>3</td>\n",
              "      <td>5</td>\n",
              "      <td>2015-07-31</td>\n",
              "      <td>8314</td>\n",
              "      <td>821</td>\n",
              "      <td>1</td>\n",
              "      <td>1</td>\n",
              "      <td>0</td>\n",
              "      <td>1</td>\n",
              "    </tr>\n",
              "    <tr>\n",
              "      <th>3</th>\n",
              "      <td>4</td>\n",
              "      <td>5</td>\n",
              "      <td>2015-07-31</td>\n",
              "      <td>13995</td>\n",
              "      <td>1498</td>\n",
              "      <td>1</td>\n",
              "      <td>1</td>\n",
              "      <td>0</td>\n",
              "      <td>1</td>\n",
              "    </tr>\n",
              "    <tr>\n",
              "      <th>4</th>\n",
              "      <td>5</td>\n",
              "      <td>5</td>\n",
              "      <td>2015-07-31</td>\n",
              "      <td>4822</td>\n",
              "      <td>559</td>\n",
              "      <td>1</td>\n",
              "      <td>1</td>\n",
              "      <td>0</td>\n",
              "      <td>1</td>\n",
              "    </tr>\n",
              "    <tr>\n",
              "      <th>...</th>\n",
              "      <td>...</td>\n",
              "      <td>...</td>\n",
              "      <td>...</td>\n",
              "      <td>...</td>\n",
              "      <td>...</td>\n",
              "      <td>...</td>\n",
              "      <td>...</td>\n",
              "      <td>...</td>\n",
              "      <td>...</td>\n",
              "    </tr>\n",
              "    <tr>\n",
              "      <th>1016776</th>\n",
              "      <td>682</td>\n",
              "      <td>2</td>\n",
              "      <td>2013-01-01</td>\n",
              "      <td>3375</td>\n",
              "      <td>566</td>\n",
              "      <td>1</td>\n",
              "      <td>0</td>\n",
              "      <td>a</td>\n",
              "      <td>1</td>\n",
              "    </tr>\n",
              "    <tr>\n",
              "      <th>1016827</th>\n",
              "      <td>733</td>\n",
              "      <td>2</td>\n",
              "      <td>2013-01-01</td>\n",
              "      <td>10765</td>\n",
              "      <td>2377</td>\n",
              "      <td>1</td>\n",
              "      <td>0</td>\n",
              "      <td>a</td>\n",
              "      <td>1</td>\n",
              "    </tr>\n",
              "    <tr>\n",
              "      <th>1016863</th>\n",
              "      <td>769</td>\n",
              "      <td>2</td>\n",
              "      <td>2013-01-01</td>\n",
              "      <td>5035</td>\n",
              "      <td>1248</td>\n",
              "      <td>1</td>\n",
              "      <td>0</td>\n",
              "      <td>a</td>\n",
              "      <td>1</td>\n",
              "    </tr>\n",
              "    <tr>\n",
              "      <th>1017042</th>\n",
              "      <td>948</td>\n",
              "      <td>2</td>\n",
              "      <td>2013-01-01</td>\n",
              "      <td>4491</td>\n",
              "      <td>1039</td>\n",
              "      <td>1</td>\n",
              "      <td>0</td>\n",
              "      <td>a</td>\n",
              "      <td>1</td>\n",
              "    </tr>\n",
              "    <tr>\n",
              "      <th>1017190</th>\n",
              "      <td>1097</td>\n",
              "      <td>2</td>\n",
              "      <td>2013-01-01</td>\n",
              "      <td>5961</td>\n",
              "      <td>1405</td>\n",
              "      <td>1</td>\n",
              "      <td>0</td>\n",
              "      <td>a</td>\n",
              "      <td>1</td>\n",
              "    </tr>\n",
              "  </tbody>\n",
              "</table>\n",
              "<p>844392 rows × 9 columns</p>\n",
              "</div>"
            ],
            "text/plain": [
              "         Store  DayOfWeek        Date  ...  Promo  StateHoliday  SchoolHoliday\n",
              "0            1          5  2015-07-31  ...      1             0              1\n",
              "1            2          5  2015-07-31  ...      1             0              1\n",
              "2            3          5  2015-07-31  ...      1             0              1\n",
              "3            4          5  2015-07-31  ...      1             0              1\n",
              "4            5          5  2015-07-31  ...      1             0              1\n",
              "...        ...        ...         ...  ...    ...           ...            ...\n",
              "1016776    682          2  2013-01-01  ...      0             a              1\n",
              "1016827    733          2  2013-01-01  ...      0             a              1\n",
              "1016863    769          2  2013-01-01  ...      0             a              1\n",
              "1017042    948          2  2013-01-01  ...      0             a              1\n",
              "1017190   1097          2  2013-01-01  ...      0             a              1\n",
              "\n",
              "[844392 rows x 9 columns]"
            ]
          },
          "metadata": {
            "tags": []
          },
          "execution_count": 44
        }
      ]
    },
    {
      "cell_type": "markdown",
      "metadata": {
        "id": "n983rZFa2BQ7"
      },
      "source": [
        "Neste caso não faz mais sentido mantermos a coluna \"Open\". Podemos então, excluí-la do dataframe."
      ]
    },
    {
      "cell_type": "code",
      "metadata": {
        "id": "bBgnIMhV1_Qz"
      },
      "source": [
        "# Excluindo a coluna \"Open\"\n",
        "sales_train_df.drop(columns='Open', axis=1, inplace=True)"
      ],
      "execution_count": 45,
      "outputs": []
    },
    {
      "cell_type": "code",
      "metadata": {
        "id": "yBGtHJkz2SIR",
        "outputId": "7c6a2be0-4363-472e-8eb4-afae7fac11fc",
        "colab": {
          "base_uri": "https://localhost:8080/",
          "height": 204
        }
      },
      "source": [
        "# Checando o dataframe\n",
        "sales_train_df.head()"
      ],
      "execution_count": 46,
      "outputs": [
        {
          "output_type": "execute_result",
          "data": {
            "text/html": [
              "<div>\n",
              "<style scoped>\n",
              "    .dataframe tbody tr th:only-of-type {\n",
              "        vertical-align: middle;\n",
              "    }\n",
              "\n",
              "    .dataframe tbody tr th {\n",
              "        vertical-align: top;\n",
              "    }\n",
              "\n",
              "    .dataframe thead th {\n",
              "        text-align: right;\n",
              "    }\n",
              "</style>\n",
              "<table border=\"1\" class=\"dataframe\">\n",
              "  <thead>\n",
              "    <tr style=\"text-align: right;\">\n",
              "      <th></th>\n",
              "      <th>Store</th>\n",
              "      <th>DayOfWeek</th>\n",
              "      <th>Date</th>\n",
              "      <th>Sales</th>\n",
              "      <th>Customers</th>\n",
              "      <th>Promo</th>\n",
              "      <th>StateHoliday</th>\n",
              "      <th>SchoolHoliday</th>\n",
              "    </tr>\n",
              "  </thead>\n",
              "  <tbody>\n",
              "    <tr>\n",
              "      <th>0</th>\n",
              "      <td>1</td>\n",
              "      <td>5</td>\n",
              "      <td>2015-07-31</td>\n",
              "      <td>5263</td>\n",
              "      <td>555</td>\n",
              "      <td>1</td>\n",
              "      <td>0</td>\n",
              "      <td>1</td>\n",
              "    </tr>\n",
              "    <tr>\n",
              "      <th>1</th>\n",
              "      <td>2</td>\n",
              "      <td>5</td>\n",
              "      <td>2015-07-31</td>\n",
              "      <td>6064</td>\n",
              "      <td>625</td>\n",
              "      <td>1</td>\n",
              "      <td>0</td>\n",
              "      <td>1</td>\n",
              "    </tr>\n",
              "    <tr>\n",
              "      <th>2</th>\n",
              "      <td>3</td>\n",
              "      <td>5</td>\n",
              "      <td>2015-07-31</td>\n",
              "      <td>8314</td>\n",
              "      <td>821</td>\n",
              "      <td>1</td>\n",
              "      <td>0</td>\n",
              "      <td>1</td>\n",
              "    </tr>\n",
              "    <tr>\n",
              "      <th>3</th>\n",
              "      <td>4</td>\n",
              "      <td>5</td>\n",
              "      <td>2015-07-31</td>\n",
              "      <td>13995</td>\n",
              "      <td>1498</td>\n",
              "      <td>1</td>\n",
              "      <td>0</td>\n",
              "      <td>1</td>\n",
              "    </tr>\n",
              "    <tr>\n",
              "      <th>4</th>\n",
              "      <td>5</td>\n",
              "      <td>5</td>\n",
              "      <td>2015-07-31</td>\n",
              "      <td>4822</td>\n",
              "      <td>559</td>\n",
              "      <td>1</td>\n",
              "      <td>0</td>\n",
              "      <td>1</td>\n",
              "    </tr>\n",
              "  </tbody>\n",
              "</table>\n",
              "</div>"
            ],
            "text/plain": [
              "   Store  DayOfWeek        Date  ...  Promo  StateHoliday  SchoolHoliday\n",
              "0      1          5  2015-07-31  ...      1             0              1\n",
              "1      2          5  2015-07-31  ...      1             0              1\n",
              "2      3          5  2015-07-31  ...      1             0              1\n",
              "3      4          5  2015-07-31  ...      1             0              1\n",
              "4      5          5  2015-07-31  ...      1             0              1\n",
              "\n",
              "[5 rows x 8 columns]"
            ]
          },
          "metadata": {
            "tags": []
          },
          "execution_count": 46
        }
      ]
    },
    {
      "cell_type": "code",
      "metadata": {
        "id": "_S3PhTfE2a44",
        "outputId": "ce55d13d-65dc-4ec3-fdb2-62869a4cd51c",
        "colab": {
          "base_uri": "https://localhost:8080/",
          "height": 297
        }
      },
      "source": [
        "# Visualizando novamente as estatísticas\n",
        "sales_train_df.describe()"
      ],
      "execution_count": 47,
      "outputs": [
        {
          "output_type": "execute_result",
          "data": {
            "text/html": [
              "<div>\n",
              "<style scoped>\n",
              "    .dataframe tbody tr th:only-of-type {\n",
              "        vertical-align: middle;\n",
              "    }\n",
              "\n",
              "    .dataframe tbody tr th {\n",
              "        vertical-align: top;\n",
              "    }\n",
              "\n",
              "    .dataframe thead th {\n",
              "        text-align: right;\n",
              "    }\n",
              "</style>\n",
              "<table border=\"1\" class=\"dataframe\">\n",
              "  <thead>\n",
              "    <tr style=\"text-align: right;\">\n",
              "      <th></th>\n",
              "      <th>Store</th>\n",
              "      <th>DayOfWeek</th>\n",
              "      <th>Sales</th>\n",
              "      <th>Customers</th>\n",
              "      <th>Promo</th>\n",
              "      <th>SchoolHoliday</th>\n",
              "    </tr>\n",
              "  </thead>\n",
              "  <tbody>\n",
              "    <tr>\n",
              "      <th>count</th>\n",
              "      <td>844392.000000</td>\n",
              "      <td>844392.000000</td>\n",
              "      <td>844392.000000</td>\n",
              "      <td>844392.000000</td>\n",
              "      <td>844392.000000</td>\n",
              "      <td>844392.000000</td>\n",
              "    </tr>\n",
              "    <tr>\n",
              "      <th>mean</th>\n",
              "      <td>558.422920</td>\n",
              "      <td>3.520361</td>\n",
              "      <td>6955.514291</td>\n",
              "      <td>762.728395</td>\n",
              "      <td>0.446352</td>\n",
              "      <td>0.193580</td>\n",
              "    </tr>\n",
              "    <tr>\n",
              "      <th>std</th>\n",
              "      <td>321.731914</td>\n",
              "      <td>1.723689</td>\n",
              "      <td>3104.214680</td>\n",
              "      <td>401.227674</td>\n",
              "      <td>0.497114</td>\n",
              "      <td>0.395103</td>\n",
              "    </tr>\n",
              "    <tr>\n",
              "      <th>min</th>\n",
              "      <td>1.000000</td>\n",
              "      <td>1.000000</td>\n",
              "      <td>0.000000</td>\n",
              "      <td>0.000000</td>\n",
              "      <td>0.000000</td>\n",
              "      <td>0.000000</td>\n",
              "    </tr>\n",
              "    <tr>\n",
              "      <th>25%</th>\n",
              "      <td>280.000000</td>\n",
              "      <td>2.000000</td>\n",
              "      <td>4859.000000</td>\n",
              "      <td>519.000000</td>\n",
              "      <td>0.000000</td>\n",
              "      <td>0.000000</td>\n",
              "    </tr>\n",
              "    <tr>\n",
              "      <th>50%</th>\n",
              "      <td>558.000000</td>\n",
              "      <td>3.000000</td>\n",
              "      <td>6369.000000</td>\n",
              "      <td>676.000000</td>\n",
              "      <td>0.000000</td>\n",
              "      <td>0.000000</td>\n",
              "    </tr>\n",
              "    <tr>\n",
              "      <th>75%</th>\n",
              "      <td>837.000000</td>\n",
              "      <td>5.000000</td>\n",
              "      <td>8360.000000</td>\n",
              "      <td>893.000000</td>\n",
              "      <td>1.000000</td>\n",
              "      <td>0.000000</td>\n",
              "    </tr>\n",
              "    <tr>\n",
              "      <th>max</th>\n",
              "      <td>1115.000000</td>\n",
              "      <td>7.000000</td>\n",
              "      <td>41551.000000</td>\n",
              "      <td>7388.000000</td>\n",
              "      <td>1.000000</td>\n",
              "      <td>1.000000</td>\n",
              "    </tr>\n",
              "  </tbody>\n",
              "</table>\n",
              "</div>"
            ],
            "text/plain": [
              "               Store      DayOfWeek  ...          Promo  SchoolHoliday\n",
              "count  844392.000000  844392.000000  ...  844392.000000  844392.000000\n",
              "mean      558.422920       3.520361  ...       0.446352       0.193580\n",
              "std       321.731914       1.723689  ...       0.497114       0.395103\n",
              "min         1.000000       1.000000  ...       0.000000       0.000000\n",
              "25%       280.000000       2.000000  ...       0.000000       0.000000\n",
              "50%       558.000000       3.000000  ...       0.000000       0.000000\n",
              "75%       837.000000       5.000000  ...       1.000000       0.000000\n",
              "max      1115.000000       7.000000  ...       1.000000       1.000000\n",
              "\n",
              "[8 rows x 6 columns]"
            ]
          },
          "metadata": {
            "tags": []
          },
          "execution_count": 47
        }
      ]
    },
    {
      "cell_type": "code",
      "metadata": {
        "id": "jhXkwO_P2fv9"
      },
      "source": [
        ""
      ],
      "execution_count": null,
      "outputs": []
    }
  ]
}